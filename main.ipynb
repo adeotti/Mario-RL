{
 "cells": [
  {
   "cell_type": "code",
   "execution_count": 2,
   "id": "4578fd6c",
   "metadata": {},
   "outputs": [
    {
     "data": {
      "text/plain": [
       "(240, 256, 3)"
      ]
     },
     "execution_count": 2,
     "metadata": {},
     "output_type": "execute_result"
    }
   ],
   "source": [
    "import warnings\n",
    "warnings.filterwarnings(\"ignore\")\n",
    "import gym_super_mario_bros\n",
    "from nes_py.wrappers import JoypadSpace\n",
    "from gym_super_mario_bros.actions import SIMPLE_MOVEMENT\n",
    "\n",
    "env = gym_super_mario_bros.make('SuperMarioBros-v0',apply_api_compatibility=True,render_mode=\"human\" )\n",
    "env = JoypadSpace(env, SIMPLE_MOVEMENT)\n",
    "\n",
    "env.observation_space.shape"
   ]
  },
  {
   "cell_type": "code",
   "execution_count": null,
   "id": "739899ff",
   "metadata": {},
   "outputs": [],
   "source": [
    "# hypers \n",
    "lr = 0.001\n",
    "lambdaa = 0.99\n",
    "gamma = 0.99\n",
    "epochs = 10\n",
    "batchsize = 1"
   ]
  },
  {
   "cell_type": "code",
   "execution_count": null,
   "id": "5d5ed85b",
   "metadata": {},
   "outputs": [
    {
     "data": {
      "text/plain": [
       "torch.Size([1, 256, 3])"
      ]
     },
     "execution_count": 44,
     "metadata": {},
     "output_type": "execute_result"
    }
   ],
   "source": [
    "import torch\n",
    "import torch.nn as nn\n",
    "import torch.nn.functional as F\n",
    "from torch.optim import Adam\n",
    "\n",
    "class policy(nn.Module):\n",
    "    def __init__(self):\n",
    "        super().__init__()\n",
    "        self.input = nn.LazyConv2d(1,(1,1))\n",
    "        #self.conv1 = nn.LazyConv2d()\n",
    "        #self.conv1 = nn.LazyConv2d()\n",
    "        #self.conv1 = nn.LazyConv2d()\n",
    "        #self.conv1 = nn.LazyConv2d()\n",
    "\n",
    "        self.l1 = nn.LazyLinear()\n",
    "        self.l2 = nn.LazyLinear()\n",
    "        self.output = nn.LazyLinear()\n",
    "\n",
    "        self.optim = Adam(self.parameters(),lr=lr)\n",
    "        \n",
    "    def forward(self,x):\n",
    "        x = self.input(x)\n",
    "        return F.softmax(x,-1)\n",
    "    \n",
    "class value(nn.Module):\n",
    "    def __init__(self):\n",
    "        self.input = nn.LazyConv2d()\n",
    "        #self.conv1 = nn.LazyConv2d()\n",
    "        #self.conv1 = nn.LazyConv2d()\n",
    "\n",
    "        self.l1 = nn.LazyLinear()\n",
    "        self.output = nn.LazyLinear()\n",
    "\n",
    "        self.optim = Adam(self.parameters(),lr=lr)\n",
    "        super().__init__()\n",
    "        pass\n",
    "        \n",
    "\n",
    "    def forward(self):\n",
    "        pass\n",
    " "
   ]
  }
 ],
 "metadata": {
  "kernelspec": {
   "display_name": "Python 3",
   "language": "python",
   "name": "python3"
  },
  "language_info": {
   "codemirror_mode": {
    "name": "ipython",
    "version": 3
   },
   "file_extension": ".py",
   "mimetype": "text/x-python",
   "name": "python",
   "nbconvert_exporter": "python",
   "pygments_lexer": "ipython3",
   "version": "3.11.9"
  }
 },
 "nbformat": 4,
 "nbformat_minor": 5
}
