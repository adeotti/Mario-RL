{
 "cells": [
  {
   "cell_type": "code",
   "execution_count": 1,
   "id": "f3530fc0",
   "metadata": {},
   "outputs": [],
   "source": [
    "import random\n",
    "import warnings\n",
    "warnings.filterwarnings(\"ignore\")\n",
    "import gym_super_mario_bros\n",
    "from nes_py.wrappers import JoypadSpace\n",
    "from gym_super_mario_bros.actions import SIMPLE_MOVEMENT\n",
    "from gymnasium.wrappers import FrameStack\n",
    "import numpy as np\n",
    "import torch\n",
    "from PIL import Image\n",
    "from torchvision.transforms import v2,Resize\n",
    "from torchvision.transforms.functional import to_tensor\n",
    "\n",
    "# hypers \n",
    "lr = 0.0003\n",
    "_lambda_ = 0.99\n",
    "gamma = 0.99\n",
    "epsilon = 0.2\n",
    "c1 = 0.5\n",
    "numFrames = 5 \n",
    "\n",
    "env = gym_super_mario_bros.make('SuperMarioBros-v0',apply_api_compatibility=True)\n",
    "env = JoypadSpace(env, SIMPLE_MOVEMENT)\n",
    "env = FrameStack(env,numFrames)\n",
    "\n",
    "def _stransform_env_output(observation): # output -> torch.Size([1, 5, 150, 150])\n",
    "    _list_ = []\n",
    "    for element in observation:\n",
    "        _tonumpy = np.array(element)\n",
    "        _topil = Image.fromarray(_tonumpy)\n",
    "        _gray = to_tensor(v2.Grayscale(1)(_topil))\n",
    "        _resized = Resize((150,150))(_gray)\n",
    "        _list_.append(_resized)\n",
    "    return torch.stack(_list_,dim=0).permute(1,0,2,3)"
   ]
  },
  {
   "cell_type": "code",
   "execution_count": 2,
   "id": "5d5ed85b",
   "metadata": {},
   "outputs": [
    {
     "data": {
      "text/plain": [
       "(tensor([[0.1471, 0.1359, 0.1433, 0.1376, 0.1473, 0.1419, 0.1469]],\n",
       "        grad_fn=<SoftmaxBackward0>),\n",
       " tensor([[0.0047]], grad_fn=<AddmmBackward0>))"
      ]
     },
     "execution_count": 2,
     "metadata": {},
     "output_type": "execute_result"
    }
   ],
   "source": [
    "import torch.nn as nn\n",
    "import torch.nn.functional as F\n",
    "from torch.optim import Adam\n",
    " \n",
    "class network(nn.Module):\n",
    "    def __init__(self):\n",
    "        super().__init__()\n",
    "        self.input = nn.LazyConv2d(1,(1,1))\n",
    "        self.conv1 = nn.LazyConv2d(1,(3,3),stride=2)\n",
    "        self.conv2 = nn.LazyConv2d(1,(3,3),stride=1)\n",
    "        self.conv3 = nn.LazyConv2d(1,(3,3),stride=2)\n",
    "        \n",
    "        self.linear1 = nn.LazyLinear(3000)\n",
    "        self.linear2 = nn.LazyLinear(1500)\n",
    "        self.linear3 = nn.LazyLinear(750)\n",
    "        self.linear4 = nn.LazyLinear(375)\n",
    "\n",
    "        self.policyHead = nn.LazyLinear(7)\n",
    "        self.valueHead = nn.LazyLinear(1)\n",
    "\n",
    "        self.optim = Adam(self.parameters(),lr=lr)\n",
    "        \n",
    "    def forward(self,x):\n",
    "        x = F.relu(self.input(x))\n",
    "        x = self.conv1(x)\n",
    "        x = F.relu(self.conv2(x))\n",
    "        x = self.conv3(x)\n",
    "        x = F.relu(torch.flatten(x,start_dim=1))\n",
    "        x = self.linear1(x)\n",
    "        x = F.relu(self.linear2(x))\n",
    "        x = self.linear3(x)\n",
    "        x = F.relu(self.linear4(x))\n",
    "        policyOut = self.policyHead(x)\n",
    "        valueOut = self.valueHead(x)\n",
    "        return F.softmax(policyOut,-1),valueOut\n",
    "    \n",
    "network()(torch.rand((1,5,150,150),dtype=torch.float)) # init\n",
    " "
   ]
  },
  {
   "cell_type": "code",
   "execution_count": null,
   "id": "03f04ffd",
   "metadata": {},
   "outputs": [],
   "source": [
    "from torch.distributions import Categorical\n",
    "import gc\n",
    "\n",
    "class Memory:\n",
    "    def __init__(self):\n",
    "        self.network = network()\n",
    "        self.env = env\n",
    "        self.data = []\n",
    "        self.gamma = gamma\n",
    "        self._lambda_ = _lambda_\n",
    "        self.pointer = 0\n",
    "    \n",
    "    def rollout(self,batchsize):\n",
    "        self.clear()\n",
    "        _stacked_frames,_ = self.env.reset()\n",
    "        for _ in range(batchsize):\n",
    "            _tranformed_observation = _stransform_env_output(_stacked_frames)\n",
    "            _policy_output , value = self.network.forward(_tranformed_observation)\n",
    "            _distribution = Categorical(_policy_output)\n",
    "            action = _distribution.sample()\n",
    "            prob = _distribution.log_prob(action)\n",
    "            state,reward,done,_,_ = self.env.step(action.item())\n",
    "            self.data.append([state,torch.tensor(reward),value,prob,action,done])\n",
    "\n",
    "        _,_rewards,_values,_,_,_ = zip(*self.data) # compute advantages --\n",
    "        _rewards = torch.stack(_rewards)\n",
    "        _values = torch.stack(_values).reshape(batchsize)\n",
    "        _values = torch.cat((_values,torch.tensor([0])))\n",
    "        \n",
    "        n = torch.arange(batchsize)\n",
    "        _temporalDifferences  = _rewards[n] + self.gamma*_values[n+1] - _values[n]\n",
    "        _temporalDifferences = torch.flip(_temporalDifferences,dims=[-1])\n",
    "        _advantage = 0\n",
    "        advantages = _temporalDifferences[n] + (self._lambda_ * self.gamma * _advantage)\n",
    "        advantages = torch.flip(advantages,dims=[-1]) \n",
    "      \n",
    "        for data,item in zip(self.data,advantages): # append advantages to data \n",
    "            data.append(item)\n",
    "        random.shuffle(self.data) \n",
    "\n",
    "    def sample(self,number):\n",
    "        output = self.data[self.pointer:self.pointer+number]\n",
    "        self.pointer+=number\n",
    "        states,rewards,values,logProb,actions,done,advantages = zip(*output)\n",
    "        return states,actions,rewards,values,logProb,advantages,done\n",
    "\n",
    "    def clear(self):\n",
    "        self.data = []\n",
    "        self.pointer = 0\n",
    "        gc.collect()\n",
    " "
   ]
  },
  {
   "cell_type": "code",
   "execution_count": null,
   "id": "d0608a24",
   "metadata": {},
   "outputs": [
    {
     "name": "stderr",
     "output_type": "stream",
     "text": [
      "  0%|          | 0/10 [00:00<?, ?it/s]"
     ]
    },
    {
     "name": "stdout",
     "output_type": "stream",
     "text": [
      "0.0\n",
      "0.0\n",
      "0.0\n",
      "0.0\n",
      "0.0\n",
      "1.0\n",
      "0.0\n",
      "0.0\n",
      "1.0\n",
      "0.0\n"
     ]
    },
    {
     "name": "stderr",
     "output_type": "stream",
     "text": [
      " 10%|█         | 1/10 [00:01<00:17,  1.96s/it]"
     ]
    },
    {
     "name": "stdout",
     "output_type": "stream",
     "text": [
      "0.0\n",
      "0.0\n",
      "0.0\n",
      "0.0\n",
      "0.0\n",
      "1.0\n",
      "0.0\n",
      "0.0\n",
      "1.0\n",
      "0.0\n"
     ]
    },
    {
     "name": "stderr",
     "output_type": "stream",
     "text": [
      " 20%|██        | 2/10 [00:03<00:13,  1.73s/it]"
     ]
    },
    {
     "name": "stdout",
     "output_type": "stream",
     "text": [
      "0.0\n",
      "0.0\n",
      "0.0\n",
      "0.0\n",
      "0.0\n",
      "0.0\n",
      "1.0\n",
      "0.0\n",
      "0.0\n",
      "0.0\n"
     ]
    },
    {
     "name": "stderr",
     "output_type": "stream",
     "text": [
      " 30%|███       | 3/10 [00:04<00:11,  1.61s/it]"
     ]
    },
    {
     "name": "stdout",
     "output_type": "stream",
     "text": [
      "0.0\n",
      "0.0\n",
      "-1.0\n",
      "0.0\n",
      "1.0\n",
      "0.0\n",
      "0.0\n",
      "0.0\n",
      "0.0\n",
      "1.0\n"
     ]
    },
    {
     "name": "stderr",
     "output_type": "stream",
     "text": [
      " 40%|████      | 4/10 [00:06<00:09,  1.62s/it]"
     ]
    },
    {
     "name": "stdout",
     "output_type": "stream",
     "text": [
      "0.0\n",
      "0.0\n",
      "0.0\n",
      "0.0\n",
      "0.0\n",
      "1.0\n",
      "0.0\n",
      "0.0\n",
      "0.0\n",
      "1.0\n"
     ]
    },
    {
     "name": "stderr",
     "output_type": "stream",
     "text": [
      " 50%|█████     | 5/10 [00:08<00:07,  1.55s/it]"
     ]
    },
    {
     "name": "stdout",
     "output_type": "stream",
     "text": [
      "0.0\n",
      "0.0\n",
      "-1.0\n",
      "0.0\n",
      "1.0\n",
      "0.0\n",
      "0.0\n",
      "0.0\n",
      "0.0\n",
      "0.0\n"
     ]
    },
    {
     "name": "stderr",
     "output_type": "stream",
     "text": [
      " 60%|██████    | 6/10 [00:09<00:06,  1.57s/it]"
     ]
    },
    {
     "name": "stdout",
     "output_type": "stream",
     "text": [
      "0.0\n",
      "-1.0\n",
      "0.0\n",
      "1.0\n",
      "0.0\n",
      "0.0\n",
      "0.0\n",
      "0.0\n",
      "1.0\n",
      "0.0\n"
     ]
    },
    {
     "name": "stderr",
     "output_type": "stream",
     "text": [
      " 70%|███████   | 7/10 [00:11<00:04,  1.59s/it]"
     ]
    },
    {
     "name": "stdout",
     "output_type": "stream",
     "text": [
      "0.0\n",
      "0.0\n",
      "0.0\n",
      "0.0\n",
      "0.0\n",
      "1.0\n",
      "0.0\n",
      "0.0\n",
      "1.0\n",
      "0.0\n"
     ]
    },
    {
     "name": "stderr",
     "output_type": "stream",
     "text": [
      " 80%|████████  | 8/10 [00:13<00:03,  1.71s/it]"
     ]
    },
    {
     "name": "stdout",
     "output_type": "stream",
     "text": [
      "0.0\n",
      "0.0\n",
      "0.0\n",
      "0.0\n",
      "0.0\n",
      "1.0\n",
      "0.0\n",
      "0.0\n",
      "1.0\n",
      "0.0\n"
     ]
    },
    {
     "name": "stderr",
     "output_type": "stream",
     "text": [
      " 90%|█████████ | 9/10 [00:15<00:01,  1.74s/it]"
     ]
    },
    {
     "name": "stdout",
     "output_type": "stream",
     "text": [
      "0.0\n",
      "0.0\n",
      "0.0\n",
      "0.0\n",
      "0.0\n",
      "0.0\n",
      "0.0\n",
      "0.0\n",
      "1.0\n",
      "0.0\n"
     ]
    },
    {
     "name": "stderr",
     "output_type": "stream",
     "text": [
      "100%|██████████| 10/10 [00:16<00:00,  1.67s/it]\n"
     ]
    }
   ],
   "source": [
    "torch.autograd.set_detect_anomaly(True)\n",
    "from torch.utils.tensorboard import SummaryWriter\n",
    "from tqdm import tqdm\n",
    "import sys\n",
    "\n",
    "class Agent:\n",
    "    def __init__(self):\n",
    "        self.env = env\n",
    "        self.memory = Memory()\n",
    "        self.network = network()\n",
    "        self.batchsize = 10 # 128\n",
    "        self.minibatch = 5\n",
    "        self.epochs = 10  # 40_000 \n",
    "        self.writter = SummaryWriter(\"./\")\n",
    "\n",
    "    def save(self):\n",
    "        torch.save(self.network.state_dict(),\"./mario.pth\")\n",
    "  \n",
    "    def train(self):\n",
    "        for traj in tqdm(range(self.epochs),total=self.epochs):\n",
    "            self.memory.rollout(self.batchsize)\n",
    "            for n in range(self.batchsize//self.minibatch):\n",
    "                states,actions,rewards,values,_old_log_prob,advantages,done = self.memory.sample(self.minibatch)        \n",
    "                advantages = torch.stack(advantages)\n",
    "                values = torch.stack(values,dim=-1)\n",
    "                _vtarget = advantages + values\n",
    "                loss_critic = F.mse_loss(values,_vtarget)\n",
    "               \n",
    "                _states_list = []\n",
    "                for element in states: # process each Lazyframe then stack \n",
    "                    _transformed_states = _stransform_env_output(element)\n",
    "                    _states_list.append(_transformed_states)\n",
    "                _stacked_states = torch.stack(_states_list,dim=0).squeeze(1) # ->  torch.Size([5, 5, 150, 150])\n",
    "                _stacked_actions = torch.stack(actions,dim=1)\n",
    "\n",
    "                _policy_output,_ = self.network.forward(_stacked_states)\n",
    "                dist = Categorical(_policy_output)\n",
    "                _new_log_prob = dist.log_prob(_stacked_actions)\n",
    "                _old_log_prob = torch.stack(_old_log_prob,dim=1)\n",
    "                ratio = torch.exp(_new_log_prob)/torch.exp(_old_log_prob)\n",
    "\n",
    "                _loss_policy_list = [] \n",
    "                for i in range(len(advantages)):\n",
    "                    _ratio_advantages = ratio*advantages[i]\n",
    "                    _clipped_ratio_advantages = torch.clamp(_ratio_advantages,(1-epsilon),(1+epsilon))*advantages[i]\n",
    "                    loss = torch.min(_ratio_advantages,_clipped_ratio_advantages)\n",
    "                    _loss_policy_list.append(loss)\n",
    "\n",
    "                loss_policy = -torch.mean(torch.stack(_loss_policy_list))\n",
    "                totalLoss = loss_policy + c1*loss_critic\n",
    "                self.network.optim.zero_grad()\n",
    "                totalLoss.backward(retain_graph=True)\n",
    "                self.network.optim.step()\n",
    "\n",
    "                _rewards = torch.mean(torch.stack(rewards)) \n",
    "            self.writter.add_scalar(\"main/Reward\",_rewards)\n",
    "            self.writter.add_scalar(\"main/Loss\",totalLoss)\n",
    "            \n",
    "        self.save()\n",
    "\n",
    "Agent().train()\n"
   ]
  }
 ],
 "metadata": {
  "kernelspec": {
   "display_name": "Python 3",
   "language": "python",
   "name": "python3"
  },
  "language_info": {
   "codemirror_mode": {
    "name": "ipython",
    "version": 3
   },
   "file_extension": ".py",
   "mimetype": "text/x-python",
   "name": "python",
   "nbconvert_exporter": "python",
   "pygments_lexer": "ipython3",
   "version": "3.11.9"
  }
 },
 "nbformat": 4,
 "nbformat_minor": 5
}
