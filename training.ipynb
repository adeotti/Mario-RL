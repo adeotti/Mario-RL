{
 "cells": [
  {
   "cell_type": "code",
   "execution_count": null,
   "id": "3530715c",
   "metadata": {},
   "outputs": [],
   "source": [
    "import warnings\n",
    "warnings.filterwarnings(\"ignore\")\n",
    "import torch,gym,random\n",
    "import gym_super_mario_bros\n",
    "from nes_py.wrappers import JoypadSpace\n",
    "from gym_super_mario_bros.actions import SIMPLE_MOVEMENT\n",
    "from gym.wrappers import GrayScaleObservation,FrameStack,ResizeObservation\n",
    "from gym.vector import SyncVectorEnv\n",
    "import numpy as np\n"
   ]
  },
  {
   "cell_type": "code",
   "execution_count": null,
   "id": "cb37b245",
   "metadata": {},
   "outputs": [],
   "source": [
    "seed = 42\n",
    "torch.manual_seed(seed)\n",
    "random.seed(seed)\n",
    "np.random.seed(seed)\n",
    "torch.cuda.manual_seed(seed)\n",
    "device = torch.device(\"cuda\" if torch.cuda.is_available() else \"cpu\")\n",
    "    #\n",
    "lr = 0.0001\n",
    "_lambda_ = 0.95\n",
    "gamma = 0.99\n",
    "epsilon = 0.2\n",
    "c1 = 0.5\n",
    "c2 = 0.01\n",
    "    # \n",
    "resized_observation = (90,90)\n",
    "num_frames = 4\n",
    "num_env = 6\n",
    "skip_frame = 4"
   ]
  },
  {
   "cell_type": "code",
   "execution_count": null,
   "id": "6661adf4",
   "metadata": {},
   "outputs": [],
   "source": [
    "def make_env(): \n",
    "    \n",
    "    class CustomEnv(gym.Wrapper): \n",
    "        def __init__(self,env,skip):\n",
    "            super().__init__(env)\n",
    "            self.skip = skip\n",
    "            self.score = 0\n",
    "\n",
    "        def step(self, action):\n",
    "            total_reward = 0\n",
    "            for _ in range(self.skip):\n",
    "                obs,reward,done,truncared,info = self.env.step(action)\n",
    "                total_reward += reward\n",
    "\n",
    "            if info.get(\"life\") == 2 : \n",
    "                total_reward += (info.get(\"score\") - self.score) / 50\n",
    "                self.score = info.get(\"score\")\n",
    "            else:\n",
    "                total_reward -= 200\n",
    "                done = True\n",
    "            return obs,total_reward,done,truncared,info\n",
    "\n",
    "        def reset(self, **kwargs):\n",
    "            return self.env.reset()\n",
    "\n",
    "    x = gym_super_mario_bros.make('SuperMarioBros-v0',apply_api_compatibility=True) \n",
    "    x = ResizeObservation(x,resized_observation)  \n",
    "    x = CustomEnv(x,skip_frame) \n",
    "    x = JoypadSpace(x, SIMPLE_MOVEMENT)  \n",
    "    x = GrayScaleObservation(env=x,keep_dim=True)  \n",
    "    #x = FrameStack(x,num_frames)\n",
    "    x = SyncVectorEnv(env_fns=[lambda : x] * num_env)\n",
    "    return x\n"
   ]
  },
  {
   "cell_type": "code",
   "execution_count": 51,
   "id": "f1b00fec",
   "metadata": {},
   "outputs": [],
   "source": [
    "import torch.nn as nn\n",
    "import torch.nn.functional as F\n",
    "from torch.optim import Adam\n",
    "from IPython.display import clear_output\n",
    "\n",
    "class network(nn.Module):\n",
    "    def __init__(self):\n",
    "        super().__init__()\n",
    "        self.conv1 = nn.LazyConv2d(32,1,1,0)\n",
    "        self.conv2 = nn.LazyConv2d(32,3,2,2)\n",
    "        self.conv3 = nn.LazyConv2d(32,3,2,2)\n",
    "        self.conv4 = nn.LazyConv2d(32,3,2,2)\n",
    "        self.output = nn.LazyLinear(80)\n",
    "\n",
    "        self.policy_head = nn.LazyLinear(7)\n",
    "        self.value_head = nn.LazyLinear(1)\n",
    "        self.optim = Adam(self.parameters(),lr=lr)\n",
    "        \n",
    "    def forward(self,x):\n",
    "        x = F.relu(self.conv1(x))\n",
    "        x = F.relu(self.conv2(x))\n",
    "        x = F.relu(self.conv3(x))\n",
    "        x = F.relu(self.conv4(x))\n",
    "        x = torch.flatten(x,start_dim=1) # -> torch.Size([32, 169])\n",
    "        x = F.relu(self.output(x))\n",
    "        policy_output = self.policy_head(x)\n",
    "        value_output = self.value_head(x)\n",
    "        return F.softmax(policy_output,-1),value_output\n",
    "\n",
    "model = network().to(device)\n",
    "model.forward(torch.rand((1,1,90,90),dtype=torch.float32))\n",
    "clear_output()\n"
   ]
  },
  {
   "cell_type": "code",
   "execution_count": null,
   "id": "8d717bc4",
   "metadata": {},
   "outputs": [],
   "source": [
    "import gc,sys\n",
    "from torch.distributions import Categorical\n",
    "\n",
    "class Memory:\n",
    "    def __init__(self,env : SyncVectorEnv):\n",
    "        self.network = model\n",
    "        self.env = env\n",
    "        self.gamma = gamma\n",
    "        self._lambda_ = _lambda_\n",
    "        self.data = []\n",
    "        self.pointer = 0\n",
    "    \n",
    "    def rollout(self,batchsize):\n",
    "        self.clear()\n",
    "        _observation,info = self.env.reset()\n",
    "        observation = torch.from_numpy(_observation).permute(0,-1,1,2).to(device,torch.float32) # torch.Size([6, 1, 90, 90])\n",
    "        with torch.no_grad(): \n",
    "            for _ in range(batchsize):  \n",
    "                policy_output , value = self.network.forward(observation)\n",
    "                distribution = Categorical(policy_output)\n",
    "                action = distribution.sample()\n",
    "                prob = distribution.log_prob(action)\n",
    "                state,reward,done,_,_ = self.env.step(action.tolist())\n",
    "                \n",
    "                if done.any(): # reset each done env or get an error haha !\n",
    "                    done_idx = np.where(done == True)[0] \n",
    "                    for i in done_idx:\n",
    "                        _observation[i],info[i] = self.env.envs[i].reset()\n",
    "                        \n",
    "                self.data.append([torch.from_numpy(state).permute(0,-1,1,2).to(torch.float32),\n",
    "                                  torch.tensor(reward,dtype=torch.float32),value,prob,action,done])\n",
    "\n",
    "        _,rewards,values,_,_,_ = zip(*self.data) # compute advantages \n",
    "        _rewards = torch.stack(rewards).to(device) \n",
    "        _values = torch.stack(values).squeeze() \n",
    "        zeros = torch.zeros(1,_values.shape[-1],device=device,dtype=torch.float32)\n",
    "        _values = torch.cat([_values,zeros])\n",
    "        assert _rewards.dtype == _values.dtype == torch.float32\n",
    "\n",
    "        advantages = torch.zeros_like(_rewards,device=device,dtype=torch.float32)\n",
    "        gae = 0.0\n",
    "        for n in reversed(range(len(_rewards))):\n",
    "            td = _rewards[n] + self.gamma * _values[n+1] - _values[n] # temporal difference\n",
    "            gae = td + (self._lambda_ * self.gamma * gae) \n",
    "            advantages[n] = gae\n",
    "\n",
    "        for data,item in zip(self.data,advantages): # append advantages to data\n",
    "            data.append(item)\n",
    "        random.shuffle(self.data) \n",
    "\n",
    "    def sample(self,number):\n",
    "        output = self.data[self.pointer:self.pointer+number]\n",
    "        self.pointer+=number\n",
    "        states,rewards,values,logProb,actions,done,advantages = zip(*output)\n",
    "        return states,actions,rewards,values,logProb,advantages,done\n",
    "\n",
    "    def clear(self):\n",
    "        self.data = []\n",
    "        self.pointer = 0\n",
    "        gc.collect()"
   ]
  },
  {
   "cell_type": "code",
   "execution_count": null,
   "id": "9c8163ba",
   "metadata": {},
   "outputs": [],
   "source": [
    "torch.autograd.set_detect_anomaly(True)\n",
    "from torch.utils.tensorboard import SummaryWriter\n",
    "from tqdm import tqdm\n",
    "\n",
    "class agent:\n",
    "    def __init__(self,):\n",
    "        self.env = make_env()\n",
    "        self.memory = Memory(self.env)\n",
    "        self.network = model\n",
    "        self.writter = SummaryWriter(\"./\")\n",
    "\n",
    "    def save(self,k):\n",
    "        checkpoint = {\n",
    "            \"model_state\" : self.network.state_dict(),\n",
    "            \"optim_state\" : self.network.optim.state_dict(),\n",
    "            \"lr\" : lr,\n",
    "            \"c2\" : c2,\n",
    "            \"c1\" : c1,\n",
    "            \"epsilon\" : epsilon\n",
    "        }\n",
    "        torch.save(checkpoint,f\"./mario{k}\")\n",
    "\n",
    "    def train(self,num_game,batchsize,minibatch,optim_step):\n",
    "        for traj in tqdm(range(num_game),total = num_game):\n",
    "            self.memory.rollout(batchsize)\n",
    "\n",
    "            for _ in range(batchsize//minibatch):\n",
    "                states,actions,rewards,values,old_log_prob,advantages,done = self.memory.sample(minibatch)    \n",
    "                _rewards = torch.mean(torch.stack(rewards))\n",
    "                \n",
    "                for _ in range(optim_step): \n",
    "                    _advantages = torch.stack(advantages)\n",
    "                    _values = torch.stack(values).squeeze()\n",
    "                    _old_log_prob = torch.stack(old_log_prob) \n",
    "                    \n",
    "                    vtarget = _advantages + _values\n",
    "                    loss_critic = torch.mean(torch.pow((_values-vtarget),2)) \n",
    "                \n",
    "                    stacked_states = torch.stack(states) # [minibatch, num_env, channel, image_shape]\n",
    "                    flat_states = torch.flatten(stacked_states,0,1).to(device) # [(minibatch * num_env), channel, image_shape]\n",
    "                    p_output,_ = self.network.forward(flat_states)\n",
    "                    policy_output = p_output.view(minibatch,num_env,7)\n",
    "                    dist = Categorical(policy_output)   \n",
    "                    stacked_actions = torch.stack(actions)  \n",
    "                    new_log_prob = dist.log_prob(stacked_actions)\n",
    "\n",
    "                    _entropy = -(policy_output * torch.log(policy_output + 1e-10)).sum(dim=2)\n",
    "                    entropy = _entropy.sum(dim=1).mean()\n",
    "            \n",
    "                    ratio = torch.exp(new_log_prob - _old_log_prob)\n",
    "                    proxy1 = ratio * _advantages\n",
    "                    proxy2 = torch.clamp(ratio ,1-epsilon,1+epsilon) * _advantages\n",
    "                    loss_policy = -torch.mean(torch.min(proxy1,proxy2))\n",
    "               \n",
    "                    total_loss = loss_policy + (c1*loss_critic) - (c2*entropy)\n",
    "    \n",
    "                    self.network.optim.zero_grad()\n",
    "                    total_loss.backward(retain_graph=True)\n",
    "                    torch.nn.utils.clip_grad_norm_(self.network.parameters(), 0.5)\n",
    "                    self.network.optim.step()\n",
    "                    \n",
    "            self.writter.add_scalar(\"main/reward\",_rewards,traj)\n",
    "            self.writter.add_scalar(\"main/entropy\",entropy,traj)\n",
    "            self.writter.add_scalar(\"main/total loss\",total_loss,traj)\n",
    "            self.writter.add_scalar(\"main/loss policy\",loss_policy,traj)\n",
    "            self.writter.add_scalar(\"main/loss critic\",loss_critic,traj) \n",
    "            \n",
    "            if traj % 20 == 0 : # save every ...k steps\n",
    "                self.save(traj)\n",
    "                \n",
    "        self.save(\"_end\")\n",
    "\n",
    "test = agent()\n",
    "test.train(num_game=600,batchsize=600,minibatch=100,optim_step=5) # rollout test"
   ]
  },
  {
   "cell_type": "code",
   "execution_count": 34,
   "id": "7d3dcd44",
   "metadata": {},
   "outputs": [],
   "source": [
    "import torch\n",
    "torch.manual_seed(42)\n",
    "\n",
    "t = torch.softmax(torch.rand((1,9),dtype=torch.float),-1)\n",
    "t2 = torch.softmax(torch.rand((1,9),dtype=torch.float),-1)"
   ]
  },
  {
   "cell_type": "code",
   "execution_count": 43,
   "id": "24a89396",
   "metadata": {},
   "outputs": [
    {
     "data": {
      "text/plain": [
       "tensor([[0.1316, 0.1360, 0.0799, 0.1422, 0.0805, 0.0994, 0.0704, 0.1205, 0.1396]])"
      ]
     },
     "execution_count": 43,
     "metadata": {},
     "output_type": "execute_result"
    }
   ],
   "source": [
    "t + 1e-10"
   ]
  },
  {
   "cell_type": "code",
   "execution_count": 37,
   "id": "ede174cc",
   "metadata": {},
   "outputs": [
    {
     "data": {
      "text/plain": [
       "tensor([[0.0653, 0.1456, 0.1036, 0.1364, 0.1009, 0.1200, 0.0879, 0.1387, 0.1015]])"
      ]
     },
     "execution_count": 37,
     "metadata": {},
     "output_type": "execute_result"
    }
   ],
   "source": [
    "t2"
   ]
  },
  {
   "cell_type": "code",
   "execution_count": 17,
   "id": "0caaaf3c",
   "metadata": {},
   "outputs": [
    {
     "data": {
      "text/plain": [
       "tensor([[2.0143, 0.9339, 0.7714, 1.0420, 0.7977, 0.8278, 0.8012, 0.8688, 1.3745]])"
      ]
     },
     "execution_count": 17,
     "metadata": {},
     "output_type": "execute_result"
    }
   ],
   "source": [
    "x = t/t2\n",
    "x"
   ]
  },
  {
   "cell_type": "code",
   "execution_count": 21,
   "id": "a9f9cc45",
   "metadata": {},
   "outputs": [
    {
     "data": {
      "text/plain": [
       "tensor([[ 0.7003, -0.0684, -0.2595,  0.0411, -0.2261, -0.1890, -0.2216, -0.1406,\n",
       "          0.3181]])"
      ]
     },
     "execution_count": 21,
     "metadata": {},
     "output_type": "execute_result"
    }
   ],
   "source": [
    "torch.log(x) "
   ]
  },
  {
   "cell_type": "code",
   "execution_count": 50,
   "id": "e89113b8",
   "metadata": {},
   "outputs": [
    {
     "data": {
      "text/plain": [
       "tensor([nan])"
      ]
     },
     "execution_count": 50,
     "metadata": {},
     "output_type": "execute_result"
    }
   ],
   "source": [
    "torch.log(torch.tensor([-1e23242]))"
   ]
  }
 ],
 "metadata": {
  "kernelspec": {
   "display_name": "Python 3",
   "language": "python",
   "name": "python3"
  },
  "language_info": {
   "codemirror_mode": {
    "name": "ipython",
    "version": 3
   },
   "file_extension": ".py",
   "mimetype": "text/x-python",
   "name": "python",
   "nbconvert_exporter": "python",
   "pygments_lexer": "ipython3",
   "version": "3.11.9"
  }
 },
 "nbformat": 4,
 "nbformat_minor": 5
}
